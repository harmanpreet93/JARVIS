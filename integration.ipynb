{
 "cells": [
  {
   "cell_type": "code",
   "execution_count": 255,
   "metadata": {
    "scrolled": false
   },
   "outputs": [
    {
     "data": {
      "application/vnd.jupyter.widget-view+json": {
       "model_id": "3490898628ce43c7920a00ec9ca397c4",
       "version_major": 2,
       "version_minor": 0
      },
      "text/plain": [
       "Output()"
      ]
     },
     "metadata": {},
     "output_type": "display_data"
    }
   ],
   "source": [
    "import k3d\n",
    "import os\n",
    "import vtk\n",
    "\n",
    "from k3d.helpers import download\n",
    "\n",
    "import speech_recognition as sr\n",
    "import requests\n",
    "import json\n",
    "\n",
    "import ipywidgets as widgets\n",
    "from IPython.display import display\n",
    "\n",
    "r = sr.Recognizer()\n",
    "plot = k3d.plot()\n",
    "plot.display()\n",
    "\n",
    "rendered_objs = []\n",
    "\n",
    "import gensim\n",
    "from pprint import pprint"
   ]
  },
  {
   "cell_type": "code",
   "execution_count": null,
   "metadata": {},
   "outputs": [],
   "source": [
    "# Load Google's pre-trained Word2Vec model.\n",
    "model = gensim.models.KeyedVectors.load_word2vec_format('model/GoogleNews-vectors-negative300.bin.gz', binary=True)"
   ]
  },
  {
   "cell_type": "code",
   "execution_count": 113,
   "metadata": {},
   "outputs": [],
   "source": [
    "import spacy\n",
    "from spacy import displacy\n",
    "from collections import Counter\n",
    "import en_core_web_sm\n",
    "nlp = en_core_web_sm.load()"
   ]
  },
  {
   "cell_type": "code",
   "execution_count": 186,
   "metadata": {},
   "outputs": [],
   "source": [
    "sentence = 'chair' \n",
    "\n",
    "my_phrases = [{x.pos_: x.lemma_} for x in [y \n",
    "                                      for y\n",
    "                                      in nlp(str(sentence)) \n",
    "                                      if not y.is_stop and y.pos_ == 'NOUN']]"
   ]
  },
  {
   "cell_type": "code",
   "execution_count": 274,
   "metadata": {},
   "outputs": [],
   "source": [
    "def getMeText():\n",
    "    textPart = ''\n",
    "    with sr.Microphone() as source:\n",
    "        print(\"Say something!\")\n",
    "        audio = r.listen(source,phrase_time_limit=3)\n",
    "    try:\n",
    "        textPart = r.recognize_google(audio)\n",
    "        print(\"Detected Text: \", textPart) \n",
    "    except sr.UnknownValueError:\n",
    "        textPart = ''\n",
    "        print(\"Click and Speak again\")\n",
    "        return \n",
    "    except sr.RequestError as e:\n",
    "        textPart = ''\n",
    "        print(\"Click and Speak again\")\n",
    "        return\n",
    "    infer_input_instructions(textPart)\n",
    "\n",
    "    \n",
    "def infer_input_instructions(text):\n",
    "    if \"clear\" in text or \"clean\" in text:\n",
    "        remove_objs()\n",
    "        return\n",
    "    else:\n",
    "        my_phrases = [{x.pos_: x.lemma_.lower()} for x in [y \n",
    "                                          for y\n",
    "                                          in nlp(str(text)) \n",
    "                                          if not y.is_stop and y.pos_ == 'NOUN']]\n",
    "        # print(\"Phrases: \",my_phrases)\n",
    "        if len(my_phrases) > 0: \n",
    "            my_object = my_phrases[0]['NOUN'].lower()\n",
    "            render_k3d_obj(my_object)\n",
    "        else:\n",
    "            print(\"\\nNO OBJECT OF THIS NAME FOUND IN DATABASE WHILE INFERING, PLEASE TRY ANOTHER QUERY!\")\n",
    "            return\n",
    "        \n",
    "\n",
    "def render_k3d_obj(text):\n",
    "    \n",
    "    if 'chair' in text:\n",
    "        path = 'objects/my_chair.obj'\n",
    "        model_matrix = (\n",
    "             0.75,  0.0, 0.0, 0,\n",
    "             0.0,  0.0, 0.75, 50,\n",
    "             0.0,  0.75, 0.0, 0.0,\n",
    "             100.0,  100.0, 100.0, 250.0\n",
    "        )\n",
    "    elif 'man' in text or 'person' in text:\n",
    "        path = 'objects/smokingMan.obj'\n",
    "        model_matrix = (\n",
    "             0.65,  0.0, 0.0, -100,\n",
    "             0.0, 0.0, 0.65, 0,\n",
    "             0.0,  0.65, 0.0, 0,\n",
    "             100.0,  100.0, 100.0, 250.0\n",
    "        )\n",
    "    elif 'table' in text:\n",
    "        path = 'objects/my_table.obj'\n",
    "        model_matrix = (\n",
    "              1.0,  0.0, 0.0, 0.0,\n",
    "                 0.0,  0.0, 1.0, 0.0,\n",
    "                 0.0,  1.0, 0.0, 0.0,\n",
    "                 0.0,  0.0, 0.0, 1.0\n",
    "        )\n",
    "    else:\n",
    "        print(\"\\nNO OBJECT FOUND IN DATABASE WHILE RENDERING, PLEASE TRY ANOTHER QUERY!\")\n",
    "        return\n",
    "    \n",
    "    print(\"Rendering: %s\"%text)\n",
    "    reader = vtk.vtkOBJReader()\n",
    "    reader.SetFileName(path)\n",
    "    reader.Update()\n",
    "    \n",
    "    my_3d_obj = k3d.vtk_poly_data(reader.GetOutput(), color=0xff0000, model_matrix=model_matrix)\n",
    "    my_3d_obj.wireframe = False\n",
    "    rendered_objs.append(my_3d_obj)\n",
    "    global plot\n",
    "    plot += my_3d_obj\n",
    "    \n",
    "    print(\"Similar items for this object:\")\n",
    "    print(\"***********************************\")\n",
    "    pprint(model.most_similar([text]))\n",
    "    print(\"***********************************\")\n",
    "    \n",
    "def remove_objs():\n",
    "    global rendered_objs\n",
    "    for obj in rendered_objs:\n",
    "        global plot\n",
    "        plot -= obj\n",
    "    rendered_objs = []"
   ]
  },
  {
   "cell_type": "code",
   "execution_count": 279,
   "metadata": {},
   "outputs": [],
   "source": [
    "remove_objs()"
   ]
  },
  {
   "cell_type": "code",
   "execution_count": 280,
   "metadata": {},
   "outputs": [
    {
     "name": "stdout",
     "output_type": "stream",
     "text": [
      "Rendering: table\n",
      "Similar items for this object:\n",
      "***********************************\n",
      "[('tables', 0.695063591003418),\n",
      " ('ConocoPhillips_BPAmerica', 0.4951048493385315),\n",
      " ('Capitalized_Included', 0.46665361523628235),\n",
      " ('tray', 0.46534568071365356),\n",
      " ('dining_room', 0.45831137895584106),\n",
      " ('banquette', 0.4455730617046356),\n",
      " ('rapping_cappella', 0.4435313045978546),\n",
      " ('sideboard', 0.44340980052948),\n",
      " ('linen_tablecloth', 0.4422051012516022),\n",
      " ('Tables', 0.44195544719696045)]\n",
      "***********************************\n"
     ]
    }
   ],
   "source": [
    "render_k3d_obj('table')"
   ]
  },
  {
   "cell_type": "code",
   "execution_count": 281,
   "metadata": {},
   "outputs": [
    {
     "name": "stdout",
     "output_type": "stream",
     "text": [
      "Rendering: chair\n",
      "Similar items for this object:\n",
      "***********************************\n",
      "[('chairs', 0.7871319055557251),\n",
      " ('Chair', 0.7488438487052917),\n",
      " ('chairperson', 0.6301863193511963),\n",
      " ('chairwoman', 0.6271359920501709),\n",
      " ('chairman', 0.616144061088562),\n",
      " ('Vice_Chair', 0.5646666288375854),\n",
      " ('Co_Chair', 0.5469809770584106),\n",
      " ('chairing', 0.5431761741638184),\n",
      " ('Chairs', 0.5395591259002686),\n",
      " ('cochair', 0.5284922122955322)]\n",
      "***********************************\n"
     ]
    }
   ],
   "source": [
    "render_k3d_obj('chair')"
   ]
  },
  {
   "cell_type": "code",
   "execution_count": 282,
   "metadata": {},
   "outputs": [
    {
     "name": "stdout",
     "output_type": "stream",
     "text": [
      "Rendering: person\n",
      "Similar items for this object:\n",
      "***********************************\n",
      "[('someone', 0.6657355427742004),\n",
      " ('persons', 0.5559710264205933),\n",
      " ('woman', 0.5470173358917236),\n",
      " ('somebody', 0.5459041595458984),\n",
      " ('peson', 0.5421414375305176),\n",
      " ('man', 0.5342026948928833),\n",
      " ('people', 0.5083408951759338),\n",
      " ('anyone', 0.5061744451522827),\n",
      " ('guy', 0.48752474784851074),\n",
      " ('Someone', 0.473005473613739)]\n",
      "***********************************\n"
     ]
    }
   ],
   "source": [
    "render_k3d_obj('person')"
   ]
  },
  {
   "cell_type": "code",
   "execution_count": 275,
   "metadata": {},
   "outputs": [
    {
     "data": {
      "application/vnd.jupyter.widget-view+json": {
       "model_id": "af7c27766b1f415695e61a625e6c8d4b",
       "version_major": 2,
       "version_minor": 0
      },
      "text/plain": [
       "Button(description='Click to speak!', style=ButtonStyle())"
      ]
     },
     "metadata": {},
     "output_type": "display_data"
    },
    {
     "data": {
      "application/vnd.jupyter.widget-view+json": {
       "model_id": "3fc8c45760a84e18b8c6112af87bff8c",
       "version_major": 2,
       "version_minor": 0
      },
      "text/plain": [
       "Button(description='Clear View', style=ButtonStyle())"
      ]
     },
     "metadata": {},
     "output_type": "display_data"
    },
    {
     "data": {
      "application/vnd.jupyter.widget-view+json": {
       "model_id": "0667d47b98fa4d1aa13e64ad1d8beb52",
       "version_major": 2,
       "version_minor": 0
      },
      "text/plain": [
       "Output()"
      ]
     },
     "metadata": {},
     "output_type": "display_data"
    }
   ],
   "source": [
    "speak_button = widgets.Button(description=\"Click to speak!\")\n",
    "clear_button = widgets.Button(description=\"Clear View\")\n",
    "\n",
    "output = widgets.Output()\n",
    "\n",
    "display(speak_button, clear_button, output)\n",
    "\n",
    "def on_speak_button_clicked(b):\n",
    "    with output:\n",
    "        getMeText()\n",
    "        \n",
    "def on_clear_button_clicked(b):\n",
    "    with output:\n",
    "        remove_objs()\n",
    "\n",
    "speak_button.on_click(on_button_clicked)\n",
    "clear_button.on_click(on_clear_button_clicked)\n"
   ]
  },
  {
   "cell_type": "code",
   "execution_count": null,
   "metadata": {},
   "outputs": [],
   "source": []
  }
 ],
 "metadata": {
  "kernelspec": {
   "display_name": "Python 3",
   "language": "python",
   "name": "python3"
  },
  "language_info": {
   "codemirror_mode": {
    "name": "ipython",
    "version": 3
   },
   "file_extension": ".py",
   "mimetype": "text/x-python",
   "name": "python",
   "nbconvert_exporter": "python",
   "pygments_lexer": "ipython3",
   "version": "3.6.9"
  }
 },
 "nbformat": 4,
 "nbformat_minor": 2
}
